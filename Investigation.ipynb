{
 "cells": [
  {
   "cell_type": "code",
   "execution_count": 1,
   "metadata": {},
   "outputs": [],
   "source": [
    "import selenium as selenium\n",
    "from selenium import webdriver\n",
    "from selenium.common.exceptions import NoSuchElementException\n",
    "from selenium.common.exceptions import ElementNotVisibleException\n",
    "from selenium.common.exceptions import TimeoutException\n",
    "from selenium.common.exceptions import WebDriverException\n",
    "import itertools\n",
    "import time"
   ]
  },
  {
   "cell_type": "code",
   "execution_count": 15,
   "metadata": {},
   "outputs": [],
   "source": [
    "from scraper import WebInterface"
   ]
  },
  {
   "cell_type": "code",
   "execution_count": 16,
   "metadata": {},
   "outputs": [],
   "source": [
    "wb = WebInterface()"
   ]
  },
  {
   "cell_type": "code",
   "execution_count": 17,
   "metadata": {},
   "outputs": [],
   "source": [
    "wb.go_to(r'https://www.azlyrics.com/m/migos.html')"
   ]
  },
  {
   "cell_type": "code",
   "execution_count": 18,
   "metadata": {},
   "outputs": [],
   "source": [
    "main_handle = wb.driver.current_window_handle"
   ]
  },
  {
   "cell_type": "code",
   "execution_count": 19,
   "metadata": {},
   "outputs": [],
   "source": [
    "wb.xpath_click('//*[@id=\"listAlbum\"]/a[1]')"
   ]
  },
  {
   "cell_type": "code",
   "execution_count": 20,
   "metadata": {},
   "outputs": [],
   "source": [
    "wb.driver.switch_to.window(wb.driver.window_handles[1])"
   ]
  },
  {
   "cell_type": "code",
   "execution_count": 22,
   "metadata": {},
   "outputs": [],
   "source": [
    "text = wb.driver.find_element_by_xpath('/html/body/div[3]/div/div[2]/div[5]').text"
   ]
  },
  {
   "cell_type": "code",
   "execution_count": 25,
   "metadata": {},
   "outputs": [
    {
     "data": {
      "text/plain": [
       "[\"Nigga I'll rather be rich then famous\",\n",
       " 'R-Rich then famous, rich then famous',\n",
       " \"Nigga I'll rather be rich then famous\",\n",
       " \"N-Nigga I'll rather be rich then famous\",\n",
       " '',\n",
       " '[Verse 1: Takeoff]',\n",
       " \"Young nigga, young nigga I'll rather be richer\",\n",
       " 'Than flexing these cameras and taking these pictures',\n",
       " \"I'm a young nigga, I walk 'round the hood\",\n",
       " \"Got boss credentials, they callin' me mister\",\n",
       " 'Quick to shoot 3, Derek Fisher',\n",
       " \"No referee I'm official\",\n",
       " 'I just might pull out my Fisker, you pussy I see your whiskers',\n",
       " 'Call up the plug no Santa, but he sending trees and gas for Christmas',\n",
       " \"Whippin' the dope, I terminate it, J's they say it's delicious\",\n",
       " 'I got a bitch in my kitchen, with a onion booty I call her Delicious',\n",
       " 'And after she water whip it, I make that bitch was the dishes',\n",
       " \"Back to the Fisker, I'm doing 250, I'm praying I don't get a ticket\",\n",
       " \"Yes I'm a Migo, but I don't wear Dickies, I'll rather put on True Religion\",\n",
       " 'And if you want fame over money my nigga, then you not true to your religion',\n",
       " \"I'll rather be rich, cause it's some niggas that's famous that ain't got shit.\",\n",
       " '',\n",
       " '[Hook]',\n",
       " '',\n",
       " '[Verse 2: Quavo]',\n",
       " \"I'll rather be rich, I flex with your bitch\",\n",
       " 'You can have the fame, you can have the gold chain',\n",
       " \"M's nigga, want them M's nigga\",\n",
       " \"Got some niggas in the hood, they got M's nigga\",\n",
       " 'Ask P, ask me',\n",
       " 'Northside Migo gang OG',\n",
       " \"Ridin' round, deuces on a damn Audi\",\n",
       " 'Before I had a deal, young nigga copped it',\n",
       " \"Them dubs, them fifties, them hundreds, my trap always bunkin' you niggas is funny\",\n",
       " \"I'm laughin with money, beatin the block like I'm sonny\",\n",
       " 'Taking them trips making them flip',\n",
       " '12 hit the block then I dip',\n",
       " \"Callin' up P, for the whips\",\n",
       " 'Get in the pot then I WHIP!',\n",
       " '',\n",
       " '[Hook]']"
      ]
     },
     "execution_count": 25,
     "metadata": {},
     "output_type": "execute_result"
    }
   ],
   "source": [
    "text.split('\\n')"
   ]
  },
  {
   "cell_type": "code",
   "execution_count": 1,
   "metadata": {},
   "outputs": [],
   "source": [
    "data = ''"
   ]
  },
  {
   "cell_type": "code",
   "execution_count": 4,
   "metadata": {},
   "outputs": [
    {
     "name": "stdout",
     "output_type": "stream",
     "text": [
      "TRUE\n"
     ]
    }
   ],
   "source": [
    "if not data:\n",
    "    print(\"TRUE\")"
   ]
  },
  {
   "cell_type": "code",
   "execution_count": null,
   "metadata": {},
   "outputs": [],
   "source": []
  }
 ],
 "metadata": {
  "kernelspec": {
   "display_name": "Python 3",
   "language": "python",
   "name": "python3"
  },
  "language_info": {
   "codemirror_mode": {
    "name": "ipython",
    "version": 3
   },
   "file_extension": ".py",
   "mimetype": "text/x-python",
   "name": "python",
   "nbconvert_exporter": "python",
   "pygments_lexer": "ipython3",
   "version": "3.6.5"
  }
 },
 "nbformat": 4,
 "nbformat_minor": 2
}
